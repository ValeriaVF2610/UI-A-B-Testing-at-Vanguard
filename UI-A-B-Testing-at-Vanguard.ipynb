{
 "cells": [
  {
   "cell_type": "code",
   "execution_count": 36,
   "id": "59d80441-c739-4a6f-bca7-b0bda625485e",
   "metadata": {},
   "outputs": [],
   "source": [
    "import pandas as pd\n",
    "\n",
    "# Load individual datasets\n",
    "df_client_profiles = pd.read_csv('df_final_demo.txt', sep=',')  # Adjust the separator if different\n",
    "df_experiment_roster = pd.read_csv('df_final_experiment_clients.txt', sep=',')\n",
    "df_final_web_data_pt_1 = pd.read_csv('df_final_web_data_pt_1.txt', sep=',')\n",
    "df_final_web_data_pt_2 = pd.read_csv('df_final_web_data_pt_2.txt', sep=',')\n"
   ]
  },
  {
   "cell_type": "code",
   "execution_count": 37,
   "id": "04a84ed2-de9c-4fce-a3fc-e4851a7f7ca3",
   "metadata": {},
   "outputs": [
    {
     "name": "stdout",
     "output_type": "stream",
     "text": [
      "   client_id  clnt_tenure_yr  clnt_tenure_mnth  clnt_age gendr  num_accts  \\\n",
      "0     836976             6.0              73.0      60.5     U        2.0   \n",
      "1    2304905             7.0              94.0      58.0     U        2.0   \n",
      "2    1439522             5.0              64.0      32.0     U        2.0   \n",
      "3    1562045            16.0             198.0      49.0     M        2.0   \n",
      "4    5126305            12.0             145.0      33.0     F        2.0   \n",
      "\n",
      "         bal  calls_6_mnth  logons_6_mnth  \n",
      "0   45105.30           6.0            9.0  \n",
      "1  110860.30           6.0            9.0  \n",
      "2   52467.79           6.0            9.0  \n",
      "3   67454.65           3.0            6.0  \n",
      "4  103671.75           0.0            3.0  \n"
     ]
    }
   ],
   "source": [
    "# Check the first few rows to ensure they loaded correctly\n",
    "print(df_client_profiles.head())"
   ]
  },
  {
   "cell_type": "code",
   "execution_count": 38,
   "id": "d148be3f-81af-4607-a53d-4f9f6908e601",
   "metadata": {},
   "outputs": [
    {
     "name": "stdout",
     "output_type": "stream",
     "text": [
      "   client_id Variation\n",
      "0    9988021      Test\n",
      "1    8320017      Test\n",
      "2    4033851   Control\n",
      "3    1982004      Test\n",
      "4    9294070   Control\n"
     ]
    }
   ],
   "source": [
    "print(df_experiment_roster.head())"
   ]
  },
  {
   "cell_type": "code",
   "execution_count": 39,
   "id": "04a4ce56-39a6-4535-bd2e-43a4d1a99cfa",
   "metadata": {},
   "outputs": [
    {
     "name": "stdout",
     "output_type": "stream",
     "text": [
      "   client_id            visitor_id                      visit_id process_step  \\\n",
      "0    9988021  580560515_7732621733  781255054_21935453173_531117       step_3   \n",
      "1    9988021  580560515_7732621733  781255054_21935453173_531117       step_2   \n",
      "2    9988021  580560515_7732621733  781255054_21935453173_531117       step_3   \n",
      "3    9988021  580560515_7732621733  781255054_21935453173_531117       step_2   \n",
      "4    9988021  580560515_7732621733  781255054_21935453173_531117       step_3   \n",
      "\n",
      "             date_time  \n",
      "0  2017-04-17 15:27:07  \n",
      "1  2017-04-17 15:26:51  \n",
      "2  2017-04-17 15:19:22  \n",
      "3  2017-04-17 15:19:13  \n",
      "4  2017-04-17 15:18:04  \n"
     ]
    }
   ],
   "source": [
    "print(df_final_web_data_pt_1.head())"
   ]
  },
  {
   "cell_type": "code",
   "execution_count": 40,
   "id": "52a1e8d3-0c01-486a-9f35-c9f58015c807",
   "metadata": {},
   "outputs": [
    {
     "name": "stdout",
     "output_type": "stream",
     "text": [
      "   client_id             visitor_id                      visit_id  \\\n",
      "0     763412  601952081_10457207388  397475557_40440946728_419634   \n",
      "1    6019349  442094451_91531546617  154620534_35331068705_522317   \n",
      "2    6019349  442094451_91531546617  154620534_35331068705_522317   \n",
      "3    6019349  442094451_91531546617  154620534_35331068705_522317   \n",
      "4    6019349  442094451_91531546617  154620534_35331068705_522317   \n",
      "\n",
      "  process_step            date_time  \n",
      "0      confirm  2017-06-06 08:56:00  \n",
      "1      confirm  2017-06-01 11:59:27  \n",
      "2       step_3  2017-06-01 11:58:48  \n",
      "3       step_2  2017-06-01 11:58:08  \n",
      "4       step_1  2017-06-01 11:57:58  \n"
     ]
    }
   ],
   "source": [
    "print(df_final_web_data_pt_2.head())"
   ]
  },
  {
   "cell_type": "code",
   "execution_count": 41,
   "id": "d96db349-7b23-4b53-98b1-065c2305865a",
   "metadata": {},
   "outputs": [],
   "source": [
    "# Merge the two parts of \"df_digital_footprints\"\n",
    "df_digital_footprints = pd.concat([df_final_web_data_pt_1, df_final_web_data_pt_2], ignore_index=True)"
   ]
  },
  {
   "cell_type": "code",
   "execution_count": 42,
   "id": "162f15be-060e-4132-ab60-5d442cce207a",
   "metadata": {},
   "outputs": [
    {
     "name": "stdout",
     "output_type": "stream",
     "text": [
      "   client_id            visitor_id                      visit_id process_step  \\\n",
      "0    9988021  580560515_7732621733  781255054_21935453173_531117       step_3   \n",
      "1    9988021  580560515_7732621733  781255054_21935453173_531117       step_2   \n",
      "2    9988021  580560515_7732621733  781255054_21935453173_531117       step_3   \n",
      "3    9988021  580560515_7732621733  781255054_21935453173_531117       step_2   \n",
      "4    9988021  580560515_7732621733  781255054_21935453173_531117       step_3   \n",
      "\n",
      "             date_time  \n",
      "0  2017-04-17 15:27:07  \n",
      "1  2017-04-17 15:26:51  \n",
      "2  2017-04-17 15:19:22  \n",
      "3  2017-04-17 15:19:13  \n",
      "4  2017-04-17 15:18:04  \n",
      "<class 'pandas.core.frame.DataFrame'>\n",
      "RangeIndex: 755405 entries, 0 to 755404\n",
      "Data columns (total 5 columns):\n",
      " #   Column        Non-Null Count   Dtype \n",
      "---  ------        --------------   ----- \n",
      " 0   client_id     755405 non-null  int64 \n",
      " 1   visitor_id    755405 non-null  object\n",
      " 2   visit_id      755405 non-null  object\n",
      " 3   process_step  755405 non-null  object\n",
      " 4   date_time     755405 non-null  object\n",
      "dtypes: int64(1), object(4)\n",
      "memory usage: 28.8+ MB\n",
      "None\n"
     ]
    }
   ],
   "source": [
    "# Check for inconsistencies in the new DataFrame\n",
    "print(df_digital_footprints.head())\n",
    "print(df_digital_footprints.info())"
   ]
  },
  {
   "cell_type": "code",
   "execution_count": 43,
   "id": "f863ba84-1028-4baa-b159-bdf645ccbfc0",
   "metadata": {},
   "outputs": [],
   "source": [
    "# Remove duplicates\n",
    "df_client_profiles.drop_duplicates(inplace=True)\n",
    "df_experiment_roster.drop_duplicates(inplace=True)\n",
    "df_digital_footprints.drop_duplicates(inplace=True)"
   ]
  },
  {
   "cell_type": "code",
   "execution_count": null,
   "id": "77e2bec9-eb38-4ff8-b552-cfa34f53622b",
   "metadata": {},
   "outputs": [],
   "source": []
  }
 ],
 "metadata": {
  "kernelspec": {
   "display_name": "Python 3 (ipykernel)",
   "language": "python",
   "name": "python3"
  },
  "language_info": {
   "codemirror_mode": {
    "name": "ipython",
    "version": 3
   },
   "file_extension": ".py",
   "mimetype": "text/x-python",
   "name": "python",
   "nbconvert_exporter": "python",
   "pygments_lexer": "ipython3",
   "version": "3.12.4"
  }
 },
 "nbformat": 4,
 "nbformat_minor": 5
}

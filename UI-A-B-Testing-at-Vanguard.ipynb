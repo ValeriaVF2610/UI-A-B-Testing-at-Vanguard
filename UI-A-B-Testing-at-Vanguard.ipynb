{
 "cells": [
  {
   "cell_type": "code",
   "execution_count": 68,
   "id": "59d80441-c739-4a6f-bca7-b0bda625485e",
   "metadata": {},
   "outputs": [],
   "source": [
    "import pandas as pd\n",
    "\n",
    "# Load individual datasets\n",
    "df_client_profiles = pd.read_csv('df_final_demo.txt', sep=',')  # Adjust the separator if different\n",
    "df_experiment_roster = pd.read_csv('df_final_experiment_clients.txt', sep=',')\n",
    "df_final_web_data_pt_1 = pd.read_csv('df_final_web_data_pt_1.txt', sep=',')\n",
    "df_final_web_data_pt_2 = pd.read_csv('df_final_web_data_pt_2.txt', sep=',')\n"
   ]
  },
  {
   "cell_type": "code",
   "execution_count": 69,
   "id": "04a84ed2-de9c-4fce-a3fc-e4851a7f7ca3",
   "metadata": {},
   "outputs": [
    {
     "name": "stdout",
     "output_type": "stream",
     "text": [
      "   client_id  clnt_tenure_yr  clnt_tenure_mnth  clnt_age gendr  num_accts  \\\n",
      "0     836976             6.0              73.0      60.5     U        2.0   \n",
      "1    2304905             7.0              94.0      58.0     U        2.0   \n",
      "2    1439522             5.0              64.0      32.0     U        2.0   \n",
      "3    1562045            16.0             198.0      49.0     M        2.0   \n",
      "4    5126305            12.0             145.0      33.0     F        2.0   \n",
      "\n",
      "         bal  calls_6_mnth  logons_6_mnth  \n",
      "0   45105.30           6.0            9.0  \n",
      "1  110860.30           6.0            9.0  \n",
      "2   52467.79           6.0            9.0  \n",
      "3   67454.65           3.0            6.0  \n",
      "4  103671.75           0.0            3.0  \n"
     ]
    }
   ],
   "source": [
    "# Check the first few rows to ensure they loaded correctly\n",
    "print(df_client_profiles.head())"
   ]
  },
  {
   "cell_type": "code",
   "execution_count": 70,
   "id": "d148be3f-81af-4607-a53d-4f9f6908e601",
   "metadata": {},
   "outputs": [
    {
     "name": "stdout",
     "output_type": "stream",
     "text": [
      "   client_id Variation\n",
      "0    9988021      Test\n",
      "1    8320017      Test\n",
      "2    4033851   Control\n",
      "3    1982004      Test\n",
      "4    9294070   Control\n"
     ]
    }
   ],
   "source": [
    "print(df_experiment_roster.head())"
   ]
  },
  {
   "cell_type": "code",
   "execution_count": 71,
   "id": "04a4ce56-39a6-4535-bd2e-43a4d1a99cfa",
   "metadata": {},
   "outputs": [
    {
     "name": "stdout",
     "output_type": "stream",
     "text": [
      "   client_id            visitor_id                      visit_id process_step  \\\n",
      "0    9988021  580560515_7732621733  781255054_21935453173_531117       step_3   \n",
      "1    9988021  580560515_7732621733  781255054_21935453173_531117       step_2   \n",
      "2    9988021  580560515_7732621733  781255054_21935453173_531117       step_3   \n",
      "3    9988021  580560515_7732621733  781255054_21935453173_531117       step_2   \n",
      "4    9988021  580560515_7732621733  781255054_21935453173_531117       step_3   \n",
      "\n",
      "             date_time  \n",
      "0  2017-04-17 15:27:07  \n",
      "1  2017-04-17 15:26:51  \n",
      "2  2017-04-17 15:19:22  \n",
      "3  2017-04-17 15:19:13  \n",
      "4  2017-04-17 15:18:04  \n"
     ]
    }
   ],
   "source": [
    "print(df_final_web_data_pt_1.head())"
   ]
  },
  {
   "cell_type": "code",
   "execution_count": 72,
   "id": "52a1e8d3-0c01-486a-9f35-c9f58015c807",
   "metadata": {},
   "outputs": [
    {
     "name": "stdout",
     "output_type": "stream",
     "text": [
      "   client_id             visitor_id                      visit_id  \\\n",
      "0     763412  601952081_10457207388  397475557_40440946728_419634   \n",
      "1    6019349  442094451_91531546617  154620534_35331068705_522317   \n",
      "2    6019349  442094451_91531546617  154620534_35331068705_522317   \n",
      "3    6019349  442094451_91531546617  154620534_35331068705_522317   \n",
      "4    6019349  442094451_91531546617  154620534_35331068705_522317   \n",
      "\n",
      "  process_step            date_time  \n",
      "0      confirm  2017-06-06 08:56:00  \n",
      "1      confirm  2017-06-01 11:59:27  \n",
      "2       step_3  2017-06-01 11:58:48  \n",
      "3       step_2  2017-06-01 11:58:08  \n",
      "4       step_1  2017-06-01 11:57:58  \n"
     ]
    }
   ],
   "source": [
    "print(df_final_web_data_pt_2.head())"
   ]
  },
  {
   "cell_type": "code",
   "execution_count": 73,
   "id": "d96db349-7b23-4b53-98b1-065c2305865a",
   "metadata": {},
   "outputs": [],
   "source": [
    "# Merge the two parts of \"df_digital_footprints\"\n",
    "df_digital_footprints = pd.concat([df_final_web_data_pt_1, df_final_web_data_pt_2], ignore_index=True)"
   ]
  },
  {
   "cell_type": "code",
   "execution_count": 74,
   "id": "162f15be-060e-4132-ab60-5d442cce207a",
   "metadata": {},
   "outputs": [
    {
     "name": "stdout",
     "output_type": "stream",
     "text": [
      "   client_id            visitor_id                      visit_id process_step  \\\n",
      "0    9988021  580560515_7732621733  781255054_21935453173_531117       step_3   \n",
      "1    9988021  580560515_7732621733  781255054_21935453173_531117       step_2   \n",
      "2    9988021  580560515_7732621733  781255054_21935453173_531117       step_3   \n",
      "3    9988021  580560515_7732621733  781255054_21935453173_531117       step_2   \n",
      "4    9988021  580560515_7732621733  781255054_21935453173_531117       step_3   \n",
      "\n",
      "             date_time  \n",
      "0  2017-04-17 15:27:07  \n",
      "1  2017-04-17 15:26:51  \n",
      "2  2017-04-17 15:19:22  \n",
      "3  2017-04-17 15:19:13  \n",
      "4  2017-04-17 15:18:04  \n",
      "<class 'pandas.core.frame.DataFrame'>\n",
      "RangeIndex: 755405 entries, 0 to 755404\n",
      "Data columns (total 5 columns):\n",
      " #   Column        Non-Null Count   Dtype \n",
      "---  ------        --------------   ----- \n",
      " 0   client_id     755405 non-null  int64 \n",
      " 1   visitor_id    755405 non-null  object\n",
      " 2   visit_id      755405 non-null  object\n",
      " 3   process_step  755405 non-null  object\n",
      " 4   date_time     755405 non-null  object\n",
      "dtypes: int64(1), object(4)\n",
      "memory usage: 28.8+ MB\n",
      "None\n"
     ]
    }
   ],
   "source": [
    "# Check for inconsistencies in the new DataFrame\n",
    "print(df_digital_footprints.head())\n",
    "print(df_digital_footprints.info())"
   ]
  },
  {
   "cell_type": "code",
   "execution_count": 75,
   "id": "f863ba84-1028-4baa-b159-bdf645ccbfc0",
   "metadata": {},
   "outputs": [],
   "source": [
    "# Remove duplicates\n",
    "df_client_profiles.drop_duplicates(inplace=True)\n",
    "df_experiment_roster.drop_duplicates(inplace=True)\n",
    "df_digital_footprints.drop_duplicates(inplace=True)"
   ]
  },
  {
   "cell_type": "code",
   "execution_count": 76,
   "id": "77e2bec9-eb38-4ff8-b552-cfa34f53622b",
   "metadata": {},
   "outputs": [
    {
     "name": "stdout",
     "output_type": "stream",
     "text": [
      "Null values in df_client_profiles:\n",
      "client_id            0\n",
      "clnt_tenure_yr      14\n",
      "clnt_tenure_mnth    14\n",
      "clnt_age            15\n",
      "gendr               14\n",
      "num_accts           14\n",
      "bal                 14\n",
      "calls_6_mnth        14\n",
      "logons_6_mnth       14\n",
      "dtype: int64\n"
     ]
    }
   ],
   "source": [
    "# Check for null values in df_client_profiles\n",
    "print(\"Null values in df_client_profiles:\")\n",
    "print(df_client_profiles.isnull().sum())"
   ]
  },
  {
   "cell_type": "code",
   "execution_count": 77,
   "id": "020622e0-b630-49be-9652-a79ab244756b",
   "metadata": {},
   "outputs": [
    {
     "name": "stdout",
     "output_type": "stream",
     "text": [
      "\n",
      "Null values in df_experiment_roster:\n",
      "client_id        0\n",
      "Variation    20109\n",
      "dtype: int64\n"
     ]
    }
   ],
   "source": [
    "# Check for null values in df_experiment_roster\n",
    "print(\"\\nNull values in df_experiment_roster:\")\n",
    "print(df_experiment_roster.isnull().sum())"
   ]
  },
  {
   "cell_type": "code",
   "execution_count": 78,
   "id": "a19e7195-5e38-49d2-bd23-fd36496d29db",
   "metadata": {},
   "outputs": [
    {
     "name": "stdout",
     "output_type": "stream",
     "text": [
      "\n",
      "Null values in df_digital_footprints:\n",
      "client_id       0\n",
      "visitor_id      0\n",
      "visit_id        0\n",
      "process_step    0\n",
      "date_time       0\n",
      "dtype: int64\n"
     ]
    }
   ],
   "source": [
    "# Check for null values in df_digital_footprints\n",
    "print(\"\\nNull values in df_digital_footprints:\")\n",
    "print(df_digital_footprints.isnull().sum())"
   ]
  },
  {
   "cell_type": "code",
   "execution_count": 79,
   "id": "ed6dbdc1-cf13-4881-bd25-8f754deec48d",
   "metadata": {},
   "outputs": [
    {
     "name": "stdout",
     "output_type": "stream",
     "text": [
      "client_id    0\n",
      "Variation    0\n",
      "dtype: int64\n"
     ]
    }
   ],
   "source": [
    "# Remove rows where 'Variation' has null values\n",
    "df_experiment_roster_clean = df_experiment_roster.dropna(subset=['Variation'])\n",
    "\n",
    "# Check the result to ensure nulls were removed\n",
    "print(df_experiment_roster_clean.isnull().sum())"
   ]
  },
  {
   "cell_type": "code",
   "execution_count": 80,
   "id": "e4399723-1829-4c2d-aa89-62636fbabe43",
   "metadata": {},
   "outputs": [
    {
     "name": "stdout",
     "output_type": "stream",
     "text": [
      "Unique client IDs with null values:\n",
      "[7402828  355337 8412164 4666211 2222915 4876926 5277910 7616759 8191345\n",
      " 1227228 8611797 5144725 1037867 1618749 6021001]\n",
      "\n",
      "Number of unique clients with null values:\n",
      "15\n"
     ]
    }
   ],
   "source": [
    "# Filter rows with any null values\n",
    "null_client_profiles = df_client_profiles[\n",
    "    df_client_profiles.isnull().any(axis=1)\n",
    "]\n",
    "# Check the unique client_ids with null values\n",
    "unique_null_client_ids = null_client_profiles['client_id'].unique()\n",
    "\n",
    "# Output the unique client_ids and the number of unique clients\n",
    "print(\"Unique client IDs with null values:\")\n",
    "print(unique_null_client_ids)\n",
    "\n",
    "print(\"\\nNumber of unique clients with null values:\")\n",
    "print(len(unique_null_client_ids))"
   ]
  },
  {
   "cell_type": "code",
   "execution_count": 81,
   "id": "3669728d-eef7-4c95-918b-6c128860e614",
   "metadata": {},
   "outputs": [
    {
     "name": "stdout",
     "output_type": "stream",
     "text": [
      "       client_id  clnt_tenure_yr  clnt_tenure_mnth  clnt_age gendr  num_accts  \\\n",
      "4164     7402828             NaN               NaN       NaN   NaN        NaN   \n",
      "8316      355337             NaN               NaN       NaN   NaN        NaN   \n",
      "8677     8412164             NaN               NaN       NaN   NaN        NaN   \n",
      "9583     4666211             8.0             106.0       NaN     F        2.0   \n",
      "13444    2222915             NaN               NaN       NaN   NaN        NaN   \n",
      "18066    4876926             NaN               NaN       NaN   NaN        NaN   \n",
      "25961    5277910             NaN               NaN       NaN   NaN        NaN   \n",
      "28432    7616759             NaN               NaN       NaN   NaN        NaN   \n",
      "35323    8191345             NaN               NaN       NaN   NaN        NaN   \n",
      "43518    1227228             NaN               NaN       NaN   NaN        NaN   \n",
      "46076    8611797             NaN               NaN       NaN   NaN        NaN   \n",
      "47189    5144725             NaN               NaN       NaN   NaN        NaN   \n",
      "49846    1037867             NaN               NaN       NaN   NaN        NaN   \n",
      "63701    1618749             NaN               NaN       NaN   NaN        NaN   \n",
      "66219    6021001             NaN               NaN       NaN   NaN        NaN   \n",
      "\n",
      "            bal  calls_6_mnth  logons_6_mnth  \n",
      "4164        NaN           NaN            NaN  \n",
      "8316        NaN           NaN            NaN  \n",
      "8677        NaN           NaN            NaN  \n",
      "9583   42550.55           4.0            7.0  \n",
      "13444       NaN           NaN            NaN  \n",
      "18066       NaN           NaN            NaN  \n",
      "25961       NaN           NaN            NaN  \n",
      "28432       NaN           NaN            NaN  \n",
      "35323       NaN           NaN            NaN  \n",
      "43518       NaN           NaN            NaN  \n",
      "46076       NaN           NaN            NaN  \n",
      "47189       NaN           NaN            NaN  \n",
      "49846       NaN           NaN            NaN  \n",
      "63701       NaN           NaN            NaN  \n",
      "66219       NaN           NaN            NaN  \n"
     ]
    }
   ],
   "source": [
    "# Filter the DataFrame to show only rows with the identified unique client IDs having nulls\n",
    "filtered_null_clients_df = df_client_profiles[df_client_profiles['client_id'].isin(unique_null_client_ids)]\n",
    "\n",
    "# Display the resulting DataFrame\n",
    "print(filtered_null_clients_df)"
   ]
  },
  {
   "cell_type": "code",
   "execution_count": 82,
   "id": "4679acb5-17d6-427d-a19d-23fbca1902d0",
   "metadata": {},
   "outputs": [
    {
     "name": "stdout",
     "output_type": "stream",
     "text": [
      "Original number of rows: 70609\n",
      "Number of rows after removal: 70595\n"
     ]
    }
   ],
   "source": [
    "# List of client IDs to remove\n",
    "clients_to_remove = [7402828, 355337, 8412164, 2222915, 4876926, 5277910, 7616759,\n",
    "                     8191345, 1227228, 8611797, 5144725, 1037867, 1618749, 6021001]\n",
    "\n",
    "# Filter the DataFrame to keep rows not containing these client IDs\n",
    "df_client_profiles_clean = df_client_profiles[~df_client_profiles['client_id'].isin(clients_to_remove)]\n",
    "\n",
    "# Check the shape of the DataFrame to confirm removal\n",
    "print(f\"Original number of rows: {df_client_profiles.shape[0]}\")\n",
    "print(f\"Number of rows after removal: {df_client_profiles_clean.shape[0]}\")"
   ]
  },
  {
   "cell_type": "code",
   "execution_count": 83,
   "id": "c8a77f6f-1acf-4307-b9a3-c38576d6e92f",
   "metadata": {},
   "outputs": [
    {
     "name": "stdout",
     "output_type": "stream",
     "text": [
      "Number of rows in the final merged DataFrame: 50488\n",
      "   client_id  clnt_tenure_yr  clnt_tenure_mnth  clnt_age gendr  num_accts  \\\n",
      "0     836976             6.0              73.0      60.5     U        2.0   \n",
      "1    2304905             7.0              94.0      58.0     U        2.0   \n",
      "2    1439522             5.0              64.0      32.0     U        2.0   \n",
      "3    1562045            16.0             198.0      49.0     M        2.0   \n",
      "4    5126305            12.0             145.0      33.0     F        2.0   \n",
      "\n",
      "         bal  calls_6_mnth  logons_6_mnth Variation  \n",
      "0   45105.30           6.0            9.0      Test  \n",
      "1  110860.30           6.0            9.0   Control  \n",
      "2   52467.79           6.0            9.0      Test  \n",
      "3   67454.65           3.0            6.0      Test  \n",
      "4  103671.75           0.0            3.0   Control  \n"
     ]
    }
   ],
   "source": [
    "# Merge df_client_profiles_clean with df_experiment_roster_clean on 'client_id'\n",
    "merged_df_1 = pd.merge(df_client_profiles_clean, df_experiment_roster_clean, on='client_id', how='inner')\n",
    "\n",
    "# Check the resulting DataFrame\n",
    "print(f\"Number of rows in the final merged DataFrame: {merged_df_1.shape[0]}\")\n",
    "print(merged_df_1.head())"
   ]
  },
  {
   "cell_type": "code",
   "execution_count": null,
   "id": "46674bf2-ba3e-42f2-a22b-483ddcae582b",
   "metadata": {},
   "outputs": [],
   "source": []
  }
 ],
 "metadata": {
  "kernelspec": {
   "display_name": "Python 3 (ipykernel)",
   "language": "python",
   "name": "python3"
  },
  "language_info": {
   "codemirror_mode": {
    "name": "ipython",
    "version": 3
   },
   "file_extension": ".py",
   "mimetype": "text/x-python",
   "name": "python",
   "nbconvert_exporter": "python",
   "pygments_lexer": "ipython3",
   "version": "3.12.4"
  }
 },
 "nbformat": 4,
 "nbformat_minor": 5
}
